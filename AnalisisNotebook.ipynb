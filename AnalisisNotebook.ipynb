{
 "cells": [
  {
   "cell_type": "markdown",
   "metadata": {
    "slideshow": {
     "slide_type": "slide"
    }
   },
   "source": [
    "# Un análisis crítico de los Notebooks como recurso docente interactivo en economía y finanzas"
   ]
  },
  {
   "cell_type": "markdown",
   "metadata": {
    "slideshow": {
     "slide_type": "slide"
    }
   },
   "source": [
    "**Francisco Salas Molina y Marisa Vercher-Ferrandiz**  \n",
    "\n",
    "Universitat Politècnica de Valencia, Campus Alcoy    \n",
    "\n",
    "frasamo@upv.es    maverfer@upv.es"
   ]
  },
  {
   "cell_type": "markdown",
   "metadata": {},
   "source": [
    "# 1. Objetivo y contexto"
   ]
  },
  {
   "cell_type": "markdown",
   "metadata": {},
   "source": [
    "<font size=\"4\">\n",
    "    \n",
    "- El **objetivo principal** de esta presentación es la realización de un **análisis crítico** sobre la utilización de los Notebooks como recurso docente.  \n",
    "\n",
    "    \n",
    "- Un **Notebook** es una herramienta interactiva que permite realizar cálculos y mucho más.  \n",
    "\n",
    "\n",
    "- El **contexto** de análisis será la enseñanza superior (Grado y Máster) en el campo de la economía y las finanzas.\n",
    "\n",
    "<font>\n"
   ]
  },
  {
   "cell_type": "markdown",
   "metadata": {},
   "source": [
    "# 2. ¿Cuál es el plan?"
   ]
  },
  {
   "cell_type": "markdown",
   "metadata": {},
   "source": [
    "<font size=\"4\">\n",
    "\n",
    "1. Breve introducción las **características** principales de los Notebooks  \n",
    "\n",
    "    \n",
    "2. Revisión de **experiencias** de su uso en el ámbito universitario  \n",
    "\n",
    "\n",
    "3. Análisis crítico de las **ventajas** y los **inconvenientes** en el ámbito de la economía y las finanzas.  \n",
    "\n",
    "************\n",
    "\n",
    "<font>"
   ]
  },
  {
   "cell_type": "markdown",
   "metadata": {},
   "source": [
    "# 3. Principales características de los Notebooks"
   ]
  },
  {
   "cell_type": "markdown",
   "metadata": {},
   "source": [
    "<font size=\"4\">\n",
    "    \n",
    "- Un Noteobook es una **herramienta interactiva** que se ejecuta sobre un navegador web como Chrome que permite realizar cálculos complejos mediante instrucciones de programación, representar gráficas, añadir vídeos o texto con formato enriquecido, visualizar fórmulas, etc.  \n",
    "    \n",
    "    \n",
    "    \n",
    "- ¿Y qué entendemos por interactiva? Básicamente, que **si se le pregunta la herramienta contesta**. Más formalmente, que si se le pide hacer algo con las instrucciones adecuadas, la herramienta es capaz de realizar una serie de tareas como hacer cálculos o visualizar gráficos en tiempo real.  \n",
    "\n",
    "\n",
    "\n",
    "- Los Notebooks están estructurados en celdas que se pueden **modificar** y **ejecutar** cuantas veces sean necesarias. \n",
    "\n",
    "\n",
    "- En el caso de que las instrucciones sean que se realice un cálculo, el **resultado** se muestra debajo de cada celda al pulsar Shift+Enter simultáneamente. Si se produce un error, también se muestra.\n",
    "\n",
    "<font>"
   ]
  },
  {
   "cell_type": "code",
   "execution_count": 4,
   "metadata": {},
   "outputs": [
    {
     "data": {
      "text/plain": [
       "2"
      ]
     },
     "execution_count": 4,
     "metadata": {},
     "output_type": "execute_result"
    }
   ],
   "source": [
    "1+1"
   ]
  },
  {
   "cell_type": "code",
   "execution_count": 5,
   "metadata": {},
   "outputs": [
    {
     "name": "stdout",
     "output_type": "stream",
     "text": [
      "Hola mundo\n"
     ]
    }
   ],
   "source": [
    "print (\"Hola mundo\")"
   ]
  },
  {
   "cell_type": "code",
   "execution_count": 6,
   "metadata": {},
   "outputs": [
    {
     "ename": "ZeroDivisionError",
     "evalue": "division by zero",
     "output_type": "error",
     "traceback": [
      "\u001b[1;31m---------------------------------------------------------------------------\u001b[0m",
      "\u001b[1;31mZeroDivisionError\u001b[0m                         Traceback (most recent call last)",
      "\u001b[1;32m<ipython-input-6-9e1622b385b6>\u001b[0m in \u001b[0;36m<module>\u001b[1;34m()\u001b[0m\n\u001b[1;32m----> 1\u001b[1;33m \u001b[1;36m1\u001b[0m\u001b[1;33m/\u001b[0m\u001b[1;36m0\u001b[0m\u001b[1;33m\u001b[0m\u001b[0m\n\u001b[0m",
      "\u001b[1;31mZeroDivisionError\u001b[0m: division by zero"
     ]
    }
   ],
   "source": [
    "1/0"
   ]
  },
  {
   "cell_type": "code",
   "execution_count": 7,
   "metadata": {},
   "outputs": [
    {
     "ename": "SyntaxError",
     "evalue": "Missing parentheses in call to 'print'. Did you mean print(\"Hola mundo\")? (<ipython-input-7-f449a8d835d7>, line 1)",
     "output_type": "error",
     "traceback": [
      "\u001b[1;36m  File \u001b[1;32m\"<ipython-input-7-f449a8d835d7>\"\u001b[1;36m, line \u001b[1;32m1\u001b[0m\n\u001b[1;33m    print \"Hola mundo\"\u001b[0m\n\u001b[1;37m                     ^\u001b[0m\n\u001b[1;31mSyntaxError\u001b[0m\u001b[1;31m:\u001b[0m Missing parentheses in call to 'print'. Did you mean print(\"Hola mundo\")?\n"
     ]
    }
   ],
   "source": [
    "print \"Hola mundo\""
   ]
  },
  {
   "cell_type": "markdown",
   "metadata": {},
   "source": [
    "# Tipos de celdas"
   ]
  },
  {
   "cell_type": "markdown",
   "metadata": {},
   "source": [
    "<font size=\"4\">  \n",
    "    \n",
    "1. Código: son las celdas por defecto y se utilizan para insertar código ejecutable en un lenguaje de programación. En este caso Python. Las 4 celdas anteriores son ejemplos de celdas de código.\n",
    "    \n",
    "\n",
    "2. Markdown: se utilizan para instertar texto con formato que se puede utilizar para añadir explicaciones, para insertar fórmulas, enlaces a páginas web, imagenes, vídeos...  Esta misma celdas es un ejemplo de celdas de texto\n",
    "\n",
    "<font>"
   ]
  },
  {
   "cell_type": "markdown",
   "metadata": {},
   "source": [
    "<font size=\"4\"> \n",
    "    \n",
    "Las celdas tipo Markdown permiten añadir enlaces...\n",
    "\n",
    "https://www.earthdatascience.org/courses/intro-to-earth-data-science/file-formats/use-text-files/format-text-with-markdown-jupyter-notebook/\n",
    "\n",
    "Las celdas de tipo Markdown también permiten introducir **fórmulas** utilizando las convenciones sobre símbolos habituales de **Latex** (procesador de textos de alta calidad tipográfica para artículos científicos).  \n",
    "\n",
    "\n",
    "Por ejemplo, podemos si queremos escribir la fórmula del Valor Actual Neto (VAN) de una serie de flujos futuros descontados a la tasa $r$, escribiríamos...\n",
    "\n",
    "\n",
    "$VAN = \\sum_{t=1}^n \\frac{F_t}{(1+r)^t}$\n",
    "\n",
    "***********\n",
    "\n",
    "<font>"
   ]
  },
  {
   "cell_type": "markdown",
   "metadata": {},
   "source": [
    "# Librerías  "
   ]
  },
  {
   "cell_type": "markdown",
   "metadata": {},
   "source": [
    "<font size=\"4\">  \n",
    "    \n",
    "Muchas de las funcionalidades útiles están almacenadas en librerías que hay que importar para que pueden ser utilizadas en el Notebook\n",
    "\n",
    "\n",
    "1. **Numpy**: contiene las funciones básicas de cálculo y análisis de datos alamcenados en vecotres y matrices.\n",
    "    \n",
    "\n",
    "2. **Pandas**: dispone de estructuras para trabajar con datos indexados en formato tabular. Permite trabajar con fechas, importar y exportar datos a hojas de cálculo y hacer análisis estadísticos.\n",
    "\n",
    "\n",
    "3. **Matplotlib**: es una librería de visualización de datos mediante gráficos.\n",
    "\n",
    "<font>"
   ]
  },
  {
   "cell_type": "code",
   "execution_count": 8,
   "metadata": {},
   "outputs": [],
   "source": [
    "# Instrucciones para cargar las librerías más utilizadas\n",
    "\n",
    "import numpy as np\n",
    "import pandas as pd\n",
    "import matplotlib.pyplot as plt\n",
    "\n",
    "# Para que las gráficas se presenten como resultado de la ejecución de las celdas \n",
    "# y no como una ventana diferente\n",
    "%matplotlib inline  "
   ]
  },
  {
   "cell_type": "markdown",
   "metadata": {},
   "source": [
    "# Ejemplo de instrucciones para hacer una simulación de la rentabilidad y el retorno de una cartera de cinco activos"
   ]
  },
  {
   "cell_type": "code",
   "execution_count": 9,
   "metadata": {},
   "outputs": [],
   "source": [
    "# Un ejemplo de importación de datos de una hoja excel\n",
    "\n",
    "data = pd.read_excel(\"ibex.xlsx\")\n",
    "data.index = data['Date']"
   ]
  },
  {
   "cell_type": "code",
   "execution_count": 10,
   "metadata": {},
   "outputs": [],
   "source": [
    "import random as rnd\n",
    "\n",
    "# Cálculo de los retornos medios y la matriz de covarianzas \n",
    "rets = data[data.columns[0:-1]]\n",
    "covs = data[data.columns[0:-1]].cov()\n",
    "\n",
    "# Selección de cinco activos\n",
    "noa = 5\n",
    "assets = rnd.sample(list(rets.columns),noa)"
   ]
  },
  {
   "cell_type": "code",
   "execution_count": 11,
   "metadata": {},
   "outputs": [],
   "source": [
    "# Simulación a partir de un bucle que repite cálculos de rentabilidad y riesgo 250 veces\n",
    "\n",
    "prets = []\n",
    "pvols = []\n",
    "for p in range (250):\n",
    "    weights = np.random.random(noa)\n",
    "    weights /= np.sum(weights)\n",
    "    prets.append(np.sum(rets[assets].mean() * weights)*50) #50 weeks to obtain annualized returns\n",
    "    pvols.append(np.sqrt(np.dot(weights.T,np.dot(rets[assets].cov() * 50, weights))))\n",
    "prets = np.array(prets)\n",
    "pvols = np.array(pvols)"
   ]
  },
  {
   "cell_type": "code",
   "execution_count": 12,
   "metadata": {},
   "outputs": [
    {
     "data": {
      "image/png": "[encoded data removed]",
      "text/plain": [
       "<Figure size 576x288 with 2 Axes>"
      ]
     },
     "metadata": {},
     "output_type": "display_data"
    }
   ],
   "source": [
    "# Representación gráfica utilizando Matplotlib y guardamos la gráfica\n",
    "\n",
    "plt.figure(figsize=(8, 4))\n",
    "plt.scatter(pvols, prets, c=prets / pvols, marker='o')\n",
    "plt.grid(True)\n",
    "plt.xlabel('expected volatility')\n",
    "plt.ylabel('expected return')\n",
    "plt.colorbar(label='Sharpe ratio')\n",
    "plt.savefig('PortfolioSelection.pdf')"
   ]
  },
  {
   "cell_type": "markdown",
   "metadata": {},
   "source": [
    "# 4. Algunas experiencias"
   ]
  },
  {
   "cell_type": "markdown",
   "metadata": {},
   "source": [
    "<font size=\"4\">  \n",
    "\n",
    "**4.1. Proyecto QuantEcon**\n",
    "\n",
    "Sargent, T., & Stachurski, J. (2010). Quantitative economics. http://quant-econ.net \n",
    "\n",
    "<font>  "
   ]
  },
  {
   "cell_type": "code",
   "execution_count": 13,
   "metadata": {},
   "outputs": [
    {
     "name": "stdout",
     "output_type": "stream",
     "text": [
      "https://es.wikipedia.org/wiki/Thomas_J._Sargent\n"
     ]
    },
    {
     "data": {
      "image/jpeg": "[encoded data removed]",
      "text/plain": [
       "<IPython.core.display.Image object>"
      ]
     },
     "execution_count": 13,
     "metadata": {
      "image/jpeg": {
       "height": 300,
       "width": 300
      }
     },
     "output_type": "execute_result"
    }
   ],
   "source": [
    "from IPython.display import Image\n",
    "print(\"https://es.wikipedia.org/wiki/Thomas_J._Sargent\")\n",
    "Image(filename=\"TomSargent.jpg\", width=300, height=300)"
   ]
  },
  {
   "cell_type": "markdown",
   "metadata": {},
   "source": [
    "<font size=\"4\">  \n",
    "\n",
    "QuantEcon es una organización sin ánimo de lucro liderada por Tom Sargent y John Stachurski que tiene como objetivo la mejora de la modelización económica a través de herramientas computacionales.  \n",
    "\n",
    "Se trata de un conjunto de lecciones y recursos docentes basados en Python, R y Julia que facilitan el desarrollo de código abierto para la modelización económica. \n",
    "\n",
    "**Lecciones**\n",
    "\n",
    "\n",
    "1. Programación en Python para economía y finanzas (19 lecciones).  \n",
    "2. Economía cuantitativa con Python (77 lecciones).  \n",
    "3. Economía cuantitativa avanzada con Python (50 lecciones).  \n",
    "\n",
    "Además de los contenidos teóricos de las lecciones y todo el código en Python, también hay disponible una colección de Notebooks donde se desarrollan conceptos específicos.  \n",
    "\n",
    "**Público objetivo**: Nivel muy amplio desde los elementos básicos de Python a temas avanzados.\n",
    "\n",
    "****************\n",
    "<font>  "
   ]
  },
  {
   "cell_type": "markdown",
   "metadata": {},
   "source": [
    "<font size=\"4\">  \n",
    "\n",
    "**4.2. Curso de métodos numéricos para economistas**  \n",
    "\n",
    "de David Pugh (King Abdullah University of Science and Technology)\n",
    "\n",
    "*Pugh, D. R. (2014). Python for research and teaching economics. In Proceedings of the 13th Python in Science Conference*\n",
    "\n",
    "http://www.youtube.com/watch?v=xHkGW1l5X8k\n",
    "\n",
    "\n",
    "\n",
    "Curso abierto (disponible en GitHub https://github.com/davidrpugh/numerical-methods) sobre métodos numéricos para economistas\n",
    "diseñado para aumentar la utilización de técnicas computacionales en el ámbito de la docencia y la investigación.\n",
    "\n",
    "**Prácticas de laboratorio de informática**\n",
    "\n",
    "\n",
    "1. Modelo de crecimiento de Solow.\n",
    "2. Modelo de ahorro óptimo de Ramsey-Cass-Koopmans.\n",
    "3. Programación dinámica. \n",
    "4. Modelos de ciclo económico real.\n",
    "\n",
    "Está basado en Notebooks y el autor indica que no es necesario ningún conocimiento previo de programación pero prácticamente no hay ningún recurso básico introductorio a los notebooks de Python.\n",
    "\n",
    "\n",
    "En el artículo publicado (http://conference.scipy.org/proceedings/scipy2014/pdfs/pugh.pdf) sí que se da una referencia a recursos introductorios a Python.\n",
    "\n",
    "****************\n",
    "\n",
    "<font size=\"4\">  \n"
   ]
  },
  {
   "cell_type": "markdown",
   "metadata": {},
   "source": [
    "<font size=\"4\">  \n",
    "\n",
    "**4.3. Microeconomía con Python**  \n",
    "\n",
    "de Masanori Kuroki (Arkansas Tech University)\n",
    "\n",
    "*Kuroki, M. (2021). Using Python and Google Colab to teach undergraduate microeconomic theory. International Review of Economics Education, 38, 100225*\n",
    "\n",
    "\n",
    "Artículo donde se describe cómo utilizar Python para un curso de Microeconomía a nivel universitario (undergraduate) donde se utilizan principalmente técnicas de **optimización** y se recomienda el uso de la liberería **SymPy** para la manipulación simbólica de ecuaciones, derivadas, etc.. \n",
    "\n",
    "Se apunta como solución a los problemas de instalación de la aplicación el uso de Google Colaboratory (https://colab.research.google.com/?hl=es) que es una plataforma gratuita que permite trabajar con Notebooks directamente en un navegador web.  \n",
    "\n",
    "**Tutorial**\n",
    "\n",
    "1. Maximización de utilidad \n",
    "2. Equilibrio general con dos bienes y dos consumidores \n",
    "3. Minimización de coste\n",
    "4. Mercados competitivo\n",
    "5. Monopolio\n",
    "6. Discriminación de precios\n",
    "7. Modelo de Cournot\n",
    "8. Modelo de Stackelberg\n",
    "9. Modelo de Bertrand. \n",
    "\n",
    "Además del tutorial, lo interesante de este artículo es que se apuntan aspectos por los cuales los docentes y los estudiantes deben usar y aprender Python y los notebooks de Python.  Por un lado, los profesores aportan una nueva herramienta de código abierto **complementar el enfoque tradicional** de lapiz y papel. Por oro lado, los alumnos con habilidades de programación encontrarán trabajo antes que aquellos que no los tienen porque muchas **ofertas de empleo valoran cada vez más este tipo de habilidades**.\n",
    "\n",
    "*********\n",
    "\n"
   ]
  },
  {
   "cell_type": "markdown",
   "metadata": {},
   "source": [
    "<font size=\"4\">  \n",
    "\n",
    "**4.4. Gestión de tesorería con Python**  \n",
    "\n",
    "de Salas-Molina y Pla-Santamaría (Universitat Politècnica de Valencia)  \n",
    "\n",
    "*Salas Molina, F., & Pla Santamaría, D. (2018). Coding oriented learning in economics, business and finance. Modelling in Science Education and Learning, 11(1), 55-64.*\n",
    "\n",
    "Los autores indican las lecciones aprendidas durante una experiencia docente de gestión de tesorería dentro de una asignatura de Técnicas Avanzadas de Dirección Financiera a nivel de Master en Dirección de Empresas.\n",
    "\n",
    "1. Problemas de **instalación** del software. Google Colaboratory es una buena solución.  \n",
    "\n",
    "2. Aprender conceptos nuevos con una nueva herramienta es un **reto doble**. Mejor utilizar conceptos conocidos o dedicar una clase tradicional a conocer el concepto antes de implementarlo en un Notebook.  \n",
    "\n",
    "\n",
    "\n",
    "\n",
    "\n",
    "************\n",
    "\n",
    "<font >"
   ]
  },
  {
   "cell_type": "markdown",
   "metadata": {},
   "source": [
    "# 5. Análisis crítico"
   ]
  },
  {
   "cell_type": "markdown",
   "metadata": {},
   "source": [
    "<font size=\"4\">  \n",
    "\n",
    "**Ventajas** (de lo general a lo particular)  \n",
    "\n",
    "\n",
    "1. Un Noteobook es una **herramienta interactiva** que permite integrar conceptos teóricos con aspectos prácticos (cálculos, optimización, gráficos, etc).  \n",
    "\n",
    "\n",
    "2. Es un recurso docente gratuito basado en Python que es un lenguaje de programación de código abierto.  \n",
    "\n",
    "\n",
    "3. Siguiendo a Sargent (https://python-programming.quantecon.org/about_py.html), es una herramienta fácil de aprender y que está sustituyendo a Excel en ámbitos económicos y financieros (también destacado por Muroki (2021)).  \n",
    "\n",
    "\n",
    "4. Siguiendo a Muroki, desarrollar habilidades de programación puede facilitar la obtención del primer empleo y el desarrollo profesional.  \n",
    "\n",
    "\n",
    "5. La ejecución secuencial de los Notebooks permite estructurar el aprendizaje (No ejecutar el paso 2 hasta que no se ha ejecutado el paso 1).\n",
    "   \n",
    "\n",
    "<font>  "
   ]
  },
  {
   "cell_type": "markdown",
   "metadata": {},
   "source": [
    "<font size=\"4\">  \n",
    "    \n",
    "**Desventajas** (de lo general a lo particular)  \n",
    "\n",
    "1. Problemas de instalación si no se opta por la opción web Google Colaboratory.  \n",
    "\n",
    "\n",
    "2. Curva de aprendizaje dilatada para estudiantes con bajas habilidades tecnológicos.  \n",
    "\n",
    "\n",
    "3. Tiempo dedicado a gestionar mensajes de error. Los lenguajes de programación son rígidos en el sentido de que las instrucciones deben introducirse correctamente. De lo contrario, se muestran mensajes de error (en ocasiones crípticos) que hay que resolver para continuar.  \n",
    "\n",
    "\n",
    "4. La ejecución secuencial de los Notebooks puede provovar problemas si las celdas no se ejecutan en el orden establecido.  \n",
    "\n",
    "**************\n",
    "\n",
    "<font>  "
   ]
  },
  {
   "cell_type": "markdown",
   "metadata": {},
   "source": [
    "# 6. Conclusión\n",
    "\n",
    "<font size=\"4\">  \n",
    "\n",
    "\n",
    "Aunque el uso de **herramientas computacionales** como los Notebooks está mucho más extendido en estudios tecnológicos como los grados de matemáticas, física o ingenierías, su **progresiva integración** en las ciencias económicas no solo representa una **innovación** sino también puede mejorar la **empleabilidad** de los futuros graduados.\n",
    "\n",
    "**¿Qué se puede hacer?** \n",
    "\n",
    "1. Contribuir al debate sobre la idoneidad de este tipo de herramientas en el ámbito de la economía y las finanzas.  \n",
    "\n",
    "\n",
    "\n",
    "2. Reportar experiencias sobre su utilización.  \n",
    "\n",
    "\n",
    "\n",
    "3. Continuar trabajando para mejorar la formación de los futuros graduados mediante el desarrollo de habilidades digitales.  \n",
    "\n",
    "***********\n",
    "\n"
   ]
  },
  {
   "cell_type": "markdown",
   "metadata": {},
   "source": [
    " Enlace a este Notebook en GitHub:  \n",
    " \n",
    " https://github.com/PacoSalas?tab=repositories"
   ]
  },
  {
   "cell_type": "markdown",
   "metadata": {},
   "source": [
    "# Bibliografía"
   ]
  },
  {
   "cell_type": "markdown",
   "metadata": {},
   "source": [
    "- Kuroki, M. (2021). Using Python and Google Colab to teach undergraduate microeconomic theory. International Review of Economics Education, 38, 100225.\n",
    "\n",
    "- Pugh, D. R. (2014). Python for research and teaching economics. In Proceedings of the 13th Python in Science Conference.\n",
    "\n",
    "- Salas Molina, F., & Pla Santamaría, D. (2018). Coding oriented learning in economics, business and finance. Modelling in Science Education and Learning, 11(1), 55-64.\n",
    "\n",
    "- Sargent, T., & Stachurski, J. (2014). Quantitative economics. http://quant-econ.net "
   ]
  }
 ],
 "metadata": {
  "kernelspec": {
   "display_name": "Python 3",
   "language": "python",
   "name": "python3"
  },
  "language_info": {
   "codemirror_mode": {
    "name": "ipython",
    "version": 3
   },
   "file_extension": ".py",
   "mimetype": "text/x-python",
   "name": "python",
   "nbconvert_exporter": "python",
   "pygments_lexer": "ipython3",
   "version": "3.6.5"
  }
 },
 "nbformat": 4,
 "nbformat_minor": 2
}
